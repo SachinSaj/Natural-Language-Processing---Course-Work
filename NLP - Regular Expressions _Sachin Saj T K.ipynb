{
 "cells": [
  {
   "cell_type": "markdown",
   "metadata": {},
   "source": [
    "# NLP - Regular Expression"
   ]
  },
  {
   "cell_type": "markdown",
   "metadata": {},
   "source": [
    "- Regular Expression - Used to search a certain pattern in a text\n",
    "- Matching Characters \n",
    "- Metacharacters - \n",
    "- '.' this matches any character except newline\n",
    "- '^' matches the start of the string.(in each new line too)\n",
    "- '$' Matches the end of the string\n",
    "- '*' causes the resulting RE to match 0 or more repitions of the preceing RE\n",
    "- '+' causes the resulting RE to match 1 or more repitions of the preceding RE.\n",
    "- '?\" causes the resulting RE to match 0 or 1 repetitions of the preceding RE.\n",
    "- {m} specifies that exactly m copies of the previos RE should be matched\n",
    "- {m,n} causes the resulting RE to match from m to n repetitions of the preceding RE, attempting to match as many repitions as possible.\n",
    "- {m,n}? causes the resulting RE to match from m to n repitions of the preceding RE, attempting to match as few repitions as possible.\n",
    "- '\\' either escapes special characters.\n",
    "- '|' A|B, where A and B can be arbitary REs, creates a reqular expression that will match either A or B\n",
    "- '\\number' matches the contents of the group of the same number\n",
    "- '\\A' matches only at the start of the string\n",
    "- '\\b' matches the empty string.but only at the beginning or end of a word\n",
    "- '\\B' Matches the empty string, but only when it is not at the beginning or end of a word\n",
    "- '\\d' Matches any Unicode decimal digit\n",
    "-'\\D' Matches any character which is not a Unicode decimal digit.\n",
    "- '\\s' Matches Unicode whitespace characters\n",
    "- '\\S' Matches any character which is not a Unicode whitespace character. \n",
    "- '\\w' Matches Unicode word characters\n",
    "- '\\W' Matches any character which is not a Unicode word character. "
   ]
  },
  {
   "cell_type": "code",
   "execution_count": 1,
   "metadata": {},
   "outputs": [],
   "source": [
    "import re"
   ]
  },
  {
   "cell_type": "code",
   "execution_count": 16,
   "metadata": {},
   "outputs": [
    {
     "data": {
      "text/plain": [
       "<re.Match object; span=(1, 2), match='o'>"
      ]
     },
     "execution_count": 16,
     "metadata": {},
     "output_type": "execute_result"
    }
   ],
   "source": [
    "pattern = re.compile('o')\n",
    "pattern.search(\"dog\")  "
   ]
  },
  {
   "cell_type": "code",
   "execution_count": 10,
   "metadata": {},
   "outputs": [
    {
     "data": {
      "text/plain": [
       "<re.Match object; span=(1, 3), match='og'>"
      ]
     },
     "execution_count": 10,
     "metadata": {},
     "output_type": "execute_result"
    }
   ],
   "source": [
    "pattern = re.compile('og')\n",
    "pattern.search('dog')"
   ]
  },
  {
   "cell_type": "code",
   "execution_count": 17,
   "metadata": {},
   "outputs": [
    {
     "data": {
      "text/plain": [
       "<re.Match object; span=(0, 1), match='d'>"
      ]
     },
     "execution_count": 17,
     "metadata": {},
     "output_type": "execute_result"
    }
   ],
   "source": [
    "re.search('d','dog')"
   ]
  },
  {
   "cell_type": "code",
   "execution_count": 18,
   "metadata": {},
   "outputs": [
    {
     "name": "stdout",
     "output_type": "stream",
     "text": [
      "<re.Match object; span=(1, 2), match='o'>\n"
     ]
    }
   ],
   "source": [
    "print(re.search('[og]','dog'))"
   ]
  },
  {
   "cell_type": "code",
   "execution_count": 19,
   "metadata": {},
   "outputs": [
    {
     "name": "stdout",
     "output_type": "stream",
     "text": [
      "['d', 'g']\n"
     ]
    }
   ],
   "source": [
    "print(re.split('o','dog'))"
   ]
  },
  {
   "cell_type": "code",
   "execution_count": 22,
   "metadata": {},
   "outputs": [
    {
     "data": {
      "text/plain": [
       "['The', 'sky', 'is', 'blue.']"
      ]
     },
     "execution_count": 22,
     "metadata": {},
     "output_type": "execute_result"
    }
   ],
   "source": [
    "txt = 'The sky is blue.'\n",
    "txt.split()"
   ]
  },
  {
   "cell_type": "code",
   "execution_count": 23,
   "metadata": {},
   "outputs": [
    {
     "name": "stdout",
     "output_type": "stream",
     "text": [
      "['The', 'sky', 'is', 'blue', '']\n"
     ]
    }
   ],
   "source": [
    "print(re.split('[\\.\\s]',txt))"
   ]
  },
  {
   "cell_type": "code",
   "execution_count": 24,
   "metadata": {},
   "outputs": [
    {
     "name": "stdout",
     "output_type": "stream",
     "text": [
      "['a', 'a']\n"
     ]
    }
   ],
   "source": [
    "print(re.findall('a','amrita'))"
   ]
  },
  {
   "cell_type": "code",
   "execution_count": 26,
   "metadata": {},
   "outputs": [
    {
     "name": "stdout",
     "output_type": "stream",
     "text": [
      "dag\n"
     ]
    }
   ],
   "source": [
    "print(re.sub(\"o\",\"a\",\"dog\"))"
   ]
  },
  {
   "cell_type": "code",
   "execution_count": 31,
   "metadata": {},
   "outputs": [
    {
     "name": "stdout",
     "output_type": "stream",
     "text": [
      "blue socks and red socks\n"
     ]
    },
    {
     "data": {
      "text/plain": [
       "'colour socks and colour socks'"
      ]
     },
     "execution_count": 31,
     "metadata": {},
     "output_type": "execute_result"
    }
   ],
   "source": [
    "txt = 'blue socks and red socks'\n",
    "print (txt)\n",
    "re.sub('(blue|red)','colour',txt)"
   ]
  },
  {
   "cell_type": "code",
   "execution_count": 32,
   "metadata": {},
   "outputs": [
    {
     "data": {
      "text/plain": [
       "<re.Match object; span=(0, 2), match='as'>"
      ]
     },
     "execution_count": 32,
     "metadata": {},
     "output_type": "execute_result"
    }
   ],
   "source": [
    "re.match('as','as')"
   ]
  },
  {
   "cell_type": "code",
   "execution_count": 34,
   "metadata": {},
   "outputs": [
    {
     "name": "stdout",
     "output_type": "stream",
     "text": [
      "None\n"
     ]
    }
   ],
   "source": [
    "print(re.match('a','c'))"
   ]
  },
  {
   "cell_type": "code",
   "execution_count": 35,
   "metadata": {},
   "outputs": [
    {
     "name": "stdout",
     "output_type": "stream",
     "text": [
      "<re.Match object; span=(0, 1), match='p'>\n"
     ]
    }
   ],
   "source": [
    "print(re.search('p','par'))"
   ]
  },
  {
   "cell_type": "code",
   "execution_count": 36,
   "metadata": {},
   "outputs": [
    {
     "name": "stdout",
     "output_type": "stream",
     "text": [
      "['This', '', '', '', 'very', 'good', 'timee', '', '', '']\n"
     ]
    }
   ],
   "source": [
    "print(re.split('[\\.\\s]','This... very good timee...'))"
   ]
  },
  {
   "cell_type": "code",
   "execution_count": 37,
   "metadata": {},
   "outputs": [
    {
     "name": "stdout",
     "output_type": "stream",
     "text": [
      "['', '... ', ' ', ' ', '...']\n"
     ]
    }
   ],
   "source": [
    "print(re.split('\\w+','This... very good time...'))"
   ]
  },
  {
   "cell_type": "code",
   "execution_count": 39,
   "metadata": {},
   "outputs": [
    {
     "name": "stdout",
     "output_type": "stream",
     "text": [
      "['This', 'very', 'good', 'time', '']\n"
     ]
    }
   ],
   "source": [
    "print(re.split('\\W+','This... very good time...'))"
   ]
  },
  {
   "cell_type": "code",
   "execution_count": 40,
   "metadata": {},
   "outputs": [],
   "source": [
    "s = 'a<html>'\n",
    "a = '<head><title>Title</title>'"
   ]
  },
  {
   "cell_type": "code",
   "execution_count": 41,
   "metadata": {},
   "outputs": [
    {
     "data": {
      "text/plain": [
       "'helloheadhellohellotitlehelloTitlehello/titlehello'"
      ]
     },
     "execution_count": 41,
     "metadata": {},
     "output_type": "execute_result"
    }
   ],
   "source": [
    "re.sub('[<.>]{1}','hello',a)"
   ]
  },
  {
   "cell_type": "code",
   "execution_count": 44,
   "metadata": {},
   "outputs": [
    {
     "name": "stdout",
     "output_type": "stream",
     "text": [
      "<re.Match object; span=(22, 27), match='term1'>\n"
     ]
    }
   ],
   "source": [
    "pattern = 'term1'\n",
    "text = 'This is a string with term1, but it does not have the other term.'\n",
    "match = re.search(pattern, text)\n",
    "print(match) # 22 is the number of letters including spaces where t in term starts and 27 is the number where term1 ends in that sentence"
   ]
  },
  {
   "cell_type": "code",
   "execution_count": 46,
   "metadata": {},
   "outputs": [
    {
     "name": "stdout",
     "output_type": "stream",
     "text": [
      "22\n",
      "27\n"
     ]
    }
   ],
   "source": [
    "print(match.start())\n",
    "print(match.end())"
   ]
  },
  {
   "cell_type": "code",
   "execution_count": 47,
   "metadata": {},
   "outputs": [
    {
     "name": "stdout",
     "output_type": "stream",
     "text": [
      "['What is the domain name of someone with the email: hello', 'gmail.com']\n"
     ]
    }
   ],
   "source": [
    "split_term = '@'\n",
    "Phrase = 'What is the domain name of someone with the email: hello@gmail.com'\n",
    "split = re.split(split_term,Phrase)\n",
    "print(split)"
   ]
  },
  {
   "cell_type": "code",
   "execution_count": 48,
   "metadata": {},
   "outputs": [],
   "source": [
    "def multi_re_find(patterns,phrase):\n",
    "    for pattern in patterns:\n",
    "        print('Searching the phrase using the re check: %r' %pattern)\n",
    "        print(re.findall(pattern,phrase))\n",
    "        print('\\n')"
   ]
  },
  {
   "cell_type": "code",
   "execution_count": 49,
   "metadata": {},
   "outputs": [
    {
     "name": "stdout",
     "output_type": "stream",
     "text": [
      "Searching the phrase using the re check: 'sd*'\n",
      "['sdd', 'sd', 'sd', 's', 's', 'sddd', 'sddd', 'sddd', 'sd', 's', 's', 's', 's', 's', 's', 'sdddd']\n",
      "\n",
      "\n",
      "Searching the phrase using the re check: 'sd+'\n",
      "['sdd', 'sd', 'sd', 'sddd', 'sddd', 'sddd', 'sd', 'sdddd']\n",
      "\n",
      "\n",
      "Searching the phrase using the re check: 'sd?'\n",
      "['sd', 'sd', 'sd', 's', 's', 'sd', 'sd', 'sd', 'sd', 's', 's', 's', 's', 's', 's', 'sd']\n",
      "\n",
      "\n",
      "Searching the phrase using the re check: 'sd{3}'\n",
      "['sddd', 'sddd', 'sddd', 'sddd']\n",
      "\n",
      "\n",
      "Searching the phrase using the re check: '[^sd{2,3}]'\n",
      "[' ', '.', '.', '.', '.', '.', '.', '.', '.', '.', '.', '.', '.', '.', '.']\n",
      "\n",
      "\n"
     ]
    }
   ],
   "source": [
    "test_phrase = 'sdd sdsd..sssddd...sdddsddd...dsds...dsssss...sdddd'\n",
    "test_patterns = [ 'sd*',     # s followed by zero or more d's\n",
    "                'sd+',          # s followed by one or more d's\n",
    "                'sd?',          # s followed by zero or one d's\n",
    "                'sd{3}',        # s followed by three d's\n",
    "                '[^sd{2,3}]',      # s followed by two to three d's\n",
    "                ]\n",
    "\n",
    "multi_re_find(test_patterns,test_phrase)"
   ]
  },
  {
   "cell_type": "code",
   "execution_count": 51,
   "metadata": {},
   "outputs": [
    {
     "name": "stdout",
     "output_type": "stream",
     "text": [
      "Searching the phrase using the re check: '[sd]'\n",
      "['s', 'd', 's', 'd', 's', 's', 's', 'd', 'd', 'd', 's', 'd', 'd', 'd', 's', 'd', 'd', 'd', 'd', 's', 'd', 's', 'd', 's', 's', 's', 's', 's', 's', 'd', 'd', 'd', 'd']\n",
      "\n",
      "\n",
      "Searching the phrase using the re check: 's[sd]+'\n",
      "['sdsd', 'sssddd', 'sdddsddd', 'sds', 'sssss', 'sdddd']\n",
      "\n",
      "\n"
     ]
    }
   ],
   "source": [
    "test_phrase = 'sdsd..sssddd...sdddsddd...dsds...dsssss...sdddd'\n",
    "\n",
    "test_patterns = [ '[sd]',    # either s or d\n",
    "            's[sd]+']   # s followed by one or more s or d\n",
    "            \n",
    "\n",
    "multi_re_find(test_patterns,test_phrase)"
   ]
  },
  {
   "cell_type": "code",
   "execution_count": 52,
   "metadata": {},
   "outputs": [
    {
     "data": {
      "text/plain": [
       "['This is a string', ' But it has punctuation', ' How can we remove it']"
      ]
     },
     "execution_count": 52,
     "metadata": {},
     "output_type": "execute_result"
    }
   ],
   "source": [
    "Text_Pharse =  'This is a string! But it has punctuation. How can we remove it?'\n",
    "re.findall('[^!.?]+',Text_Pharse)"
   ]
  },
  {
   "cell_type": "code",
   "execution_count": 53,
   "metadata": {},
   "outputs": [
    {
     "name": "stdout",
     "output_type": "stream",
     "text": [
      "Searching the phrase using the re check: '[a-z]+'\n",
      "['his', 'is', 'an', 'example', 'sentence', 'ets', 'see', 'if', 'we', 'can', 'find', 'some', 'letters']\n",
      "\n",
      "\n",
      "Searching the phrase using the re check: '[A-Z]+'\n",
      "['T', 'L']\n",
      "\n",
      "\n",
      "Searching the phrase using the re check: '[a-zA-Z]+'\n",
      "['This', 'is', 'an', 'example', 'sentence', 'Lets', 'see', 'if', 'we', 'can', 'find', 'some', 'letters']\n",
      "\n",
      "\n",
      "Searching the phrase using the re check: '[A-Z][a-z]+'\n",
      "['This', 'Lets']\n",
      "\n",
      "\n"
     ]
    }
   ],
   "source": [
    "test_phrase = 'This is an example sentence. Lets see if we can find some letters.'\n",
    "test_patterns=[ '[a-z]+',      # sequences of lower case letters\n",
    "                '[A-Z]+',      # sequences of upper case letters\n",
    "                '[a-zA-Z]+',   # sequences of lower or upper case letters\n",
    "                '[A-Z][a-z]+'] # one upper case letter followed by lower case letters\n",
    "multi_re_find(test_patterns,test_phrase)"
   ]
  },
  {
   "cell_type": "code",
   "execution_count": 54,
   "metadata": {},
   "outputs": [
    {
     "name": "stdout",
     "output_type": "stream",
     "text": [
      "Searching the phrase using the re check: '\\\\d+'\n",
      "[]\n",
      "\n",
      "\n",
      "Searching the phrase using the re check: '\\\\D+'\n",
      "['This is an example sentence. Lets see if we can find some letters.']\n",
      "\n",
      "\n",
      "Searching the phrase using the re check: '\\\\s+'\n",
      "[' ', ' ', ' ', ' ', ' ', ' ', ' ', ' ', ' ', ' ', ' ', ' ']\n",
      "\n",
      "\n",
      "Searching the phrase using the re check: '\\\\S+'\n",
      "['This', 'is', 'an', 'example', 'sentence.', 'Lets', 'see', 'if', 'we', 'can', 'find', 'some', 'letters.']\n",
      "\n",
      "\n",
      "Searching the phrase using the re check: '\\\\w+'\n",
      "['This', 'is', 'an', 'example', 'sentence', 'Lets', 'see', 'if', 'we', 'can', 'find', 'some', 'letters']\n",
      "\n",
      "\n",
      "Searching the phrase using the re check: '\\\\W+'\n",
      "[' ', ' ', ' ', ' ', '. ', ' ', ' ', ' ', ' ', ' ', ' ', ' ', '.']\n",
      "\n",
      "\n"
     ]
    }
   ],
   "source": [
    "test_pharse = 'This is a string with some numbers 1233 and a symbol #hashtag'\n",
    "test_patterns = [ r'\\d+', # sequence of digits\n",
    "                r'\\D+', # sequence of non-digits\n",
    "                r'\\s+', # sequence of whitespace\n",
    "                r'\\S+', # sequence of non-whitespace\n",
    "                r'\\w+', # alphanumeric characters\n",
    "                r'\\W+', # non-alphanumeric\n",
    "                ]\n",
    "multi_re_find(test_patterns,test_phrase)"
   ]
  },
  {
   "cell_type": "code",
   "execution_count": 55,
   "metadata": {},
   "outputs": [],
   "source": [
    "from re import *"
   ]
  },
  {
   "cell_type": "code",
   "execution_count": 56,
   "metadata": {},
   "outputs": [],
   "source": [
    "t = 'The quick brown fox born on 1/23/2013 jumped over the lazy dog born on 10/6/10.'"
   ]
  },
  {
   "cell_type": "code",
   "execution_count": 57,
   "metadata": {},
   "outputs": [
    {
     "data": {
      "text/plain": [
       "['The', 'the']"
      ]
     },
     "execution_count": 57,
     "metadata": {},
     "output_type": "execute_result"
    }
   ],
   "source": [
    "findall('the',t,I)"
   ]
  },
  {
   "cell_type": "code",
   "execution_count": 58,
   "metadata": {},
   "outputs": [
    {
     "data": {
      "text/plain": [
       "['brown', 'fox', 'born', 'dog', 'born']"
      ]
     },
     "execution_count": 58,
     "metadata": {},
     "output_type": "execute_result"
    }
   ],
   "source": [
    "findall(r'\\w+o\\w+',t) # character with o"
   ]
  },
  {
   "cell_type": "code",
   "execution_count": 59,
   "metadata": {},
   "outputs": [
    {
     "data": {
      "text/plain": [
       "['brown', 'fox', 'born', 'on', 'over', 'dog', 'born', 'on']"
      ]
     },
     "execution_count": 59,
     "metadata": {},
     "output_type": "execute_result"
    }
   ],
   "source": [
    "findall(r'\\w*o\\w*',t) # including stopping words, character with o"
   ]
  },
  {
   "cell_type": "code",
   "execution_count": 60,
   "metadata": {},
   "outputs": [
    {
     "data": {
      "text/plain": [
       "'The quick o-word o-word o-word o-word 1/23/2013 jumped o-word the lazy o-word o-word o-word 10/6/10.'"
      ]
     },
     "execution_count": 60,
     "metadata": {},
     "output_type": "execute_result"
    }
   ],
   "source": [
    "sub(r'\\w*o\\w*','o-word',t)"
   ]
  },
  {
   "cell_type": "code",
   "execution_count": 61,
   "metadata": {},
   "outputs": [
    {
     "data": {
      "text/plain": [
       "'The quick brown fox born on 1/23/2013 jumped over the lazy dog born on 10/6/10.'"
      ]
     },
     "execution_count": 61,
     "metadata": {},
     "output_type": "execute_result"
    }
   ],
   "source": [
    "t"
   ]
  },
  {
   "cell_type": "code",
   "execution_count": 62,
   "metadata": {},
   "outputs": [
    {
     "data": {
      "text/plain": [
       "['The',\n",
       " 'quick',\n",
       " 'brown',\n",
       " 'fox',\n",
       " 'born',\n",
       " 'on',\n",
       " '1/23/2013',\n",
       " 'jumped',\n",
       " 'over',\n",
       " 'the',\n",
       " 'lazy',\n",
       " 'dog',\n",
       " 'born',\n",
       " 'on',\n",
       " '10/6/10.']"
      ]
     },
     "execution_count": 62,
     "metadata": {},
     "output_type": "execute_result"
    }
   ],
   "source": [
    "split('\\s+',t)"
   ]
  },
  {
   "cell_type": "code",
   "execution_count": 63,
   "metadata": {},
   "outputs": [
    {
     "data": {
      "text/plain": [
       "['The quick br',\n",
       " 'wn f',\n",
       " 'x b',\n",
       " 'rn ',\n",
       " 'n 1/23/2013 jumped ',\n",
       " 'ver the lazy d',\n",
       " 'g b',\n",
       " 'rn ',\n",
       " 'n 10/6/10.']"
      ]
     },
     "execution_count": 63,
     "metadata": {},
     "output_type": "execute_result"
    }
   ],
   "source": [
    "split('o',t)"
   ]
  },
  {
   "cell_type": "code",
   "execution_count": 65,
   "metadata": {},
   "outputs": [
    {
     "data": {
      "text/plain": [
       "['The quick br',\n",
       " 'wn f',\n",
       " 'x born on 1/23/2013 jumped over the lazy dog born on 10/6/10.']"
      ]
     },
     "execution_count": 65,
     "metadata": {},
     "output_type": "execute_result"
    }
   ],
   "source": [
    "split('o',t,IGNORECASE)"
   ]
  },
  {
   "cell_type": "code",
   "execution_count": 66,
   "metadata": {},
   "outputs": [],
   "source": [
    "IGNORECASE = 3"
   ]
  },
  {
   "cell_type": "code",
   "execution_count": 67,
   "metadata": {},
   "outputs": [
    {
     "data": {
      "text/plain": [
       "['The ',\n",
       " ' brown fox born on 1/23/2013 ',\n",
       " ' over the lazy dog born on 10/6/10.']"
      ]
     },
     "execution_count": 67,
     "metadata": {},
     "output_type": "execute_result"
    }
   ],
   "source": [
    "split('\\w+u\\w+', t)"
   ]
  },
  {
   "cell_type": "code",
   "execution_count": 68,
   "metadata": {},
   "outputs": [
    {
     "data": {
      "text/plain": [
       "['The quick brown fox ',\n",
       " ' on 1/23/',\n",
       " ' jumped ',\n",
       " ' the ',\n",
       " ' dog ',\n",
       " ' on 10/6/10.']"
      ]
     },
     "execution_count": 68,
     "metadata": {},
     "output_type": "execute_result"
    }
   ],
   "source": [
    "split(r'\\b\\w{4}\\b', t) # four letter words makes it split"
   ]
  },
  {
   "cell_type": "code",
   "execution_count": null,
   "metadata": {},
   "outputs": [],
   "source": []
  }
 ],
 "metadata": {
  "kernelspec": {
   "display_name": "Python 3",
   "language": "python",
   "name": "python3"
  },
  "language_info": {
   "codemirror_mode": {
    "name": "ipython",
    "version": 3
   },
   "file_extension": ".py",
   "mimetype": "text/x-python",
   "name": "python",
   "nbconvert_exporter": "python",
   "pygments_lexer": "ipython3",
   "version": "3.7.3"
  }
 },
 "nbformat": 4,
 "nbformat_minor": 2
}
