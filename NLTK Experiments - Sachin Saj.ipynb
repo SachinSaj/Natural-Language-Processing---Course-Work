{
 "cells": [
  {
   "cell_type": "code",
   "execution_count": 1,
   "metadata": {},
   "outputs": [],
   "source": [
    "import nltk\n",
    "import re\n",
    "import matplotlib.pyplot as plt\n",
    "from nltk.tokenize import word_tokenize, sent_tokenize\n",
    "from nltk.corpus import stopwords\n",
    "from nltk.stem.porter import PorterStemmer\n",
    "from nltk.stem.wordnet import WordNetLemmatizer\n",
    "from nltk.stem.snowball import SnowballStemmer\n",
    "from nltk.stem import RegexpStemmer\n",
    "from nltk.stem import LancasterStemmer\n",
    "from nltk.text import Text\n",
    "from nltk.chunk import ne_chunk"
   ]
  },
  {
   "cell_type": "code",
   "execution_count": 2,
   "metadata": {},
   "outputs": [
    {
     "name": "stdout",
     "output_type": "stream",
     "text": [
      "U.S.A first. time you see The Second Renaissance it may look boring. Look at it at least twice and definitely watch part 2. It will change your view of the matrix. Are the human people the ones who started the war ? Is AI a bad thing ?\n"
     ]
    }
   ],
   "source": [
    "text = \"U.S.A first. time you see The Second Renaissance it may look boring. Look at it at least twice and definitely watch part 2. It will change your view of the matrix. Are the human people the ones who started the war ? Is AI a bad thing ?\"\n",
    "print(text)"
   ]
  },
  {
   "cell_type": "code",
   "execution_count": 3,
   "metadata": {},
   "outputs": [
    {
     "data": {
      "text/plain": [
       "['U.S.A first.',\n",
       " 'time you see The Second Renaissance it may look boring.',\n",
       " 'Look at it at least twice and definitely watch part 2.',\n",
       " 'It will change your view of the matrix.',\n",
       " 'Are the human people the ones who started the war ?',\n",
       " 'Is AI a bad thing ?']"
      ]
     },
     "execution_count": 3,
     "metadata": {},
     "output_type": "execute_result"
    }
   ],
   "source": [
    "# Sentence Tokenize\n",
    "sent_tokenize(text)"
   ]
  },
  {
   "cell_type": "code",
   "execution_count": 4,
   "metadata": {},
   "outputs": [
    {
     "name": "stdout",
     "output_type": "stream",
     "text": [
      "['U.S.A', 'first', '.', 'time', 'you', 'see', 'The', 'Second', 'Renaissance', 'it', 'may', 'look', 'boring', '.', 'Look', 'at', 'it', 'at', 'least', 'twice', 'and', 'definitely', 'watch', 'part', '2', '.', 'It', 'will', 'change', 'your', 'view', 'of', 'the', 'matrix', '.', 'Are', 'the', 'human', 'people', 'the', 'ones', 'who', 'started', 'the', 'war', '?', 'Is', 'AI', 'a', 'bad', 'thing', '?']\n"
     ]
    }
   ],
   "source": [
    "# Word Tokenize\n",
    "tokens=word_tokenize(text)\n",
    "print(tokens)"
   ]
  },
  {
   "cell_type": "code",
   "execution_count": 5,
   "metadata": {},
   "outputs": [
    {
     "name": "stdout",
     "output_type": "stream",
     "text": [
      "['u.s.a', 'first', '.', 'time', 'you', 'see', 'the', 'second', 'renaissance', 'it', 'may', 'look', 'boring', '.', 'look', 'at', 'it', 'at', 'least', 'twice', 'and', 'definitely', 'watch', 'part', '2', '.', 'it', 'will', 'change', 'your', 'view', 'of', 'the', 'matrix', '.', 'are', 'the', 'human', 'people', 'the', 'ones', 'who', 'started', 'the', 'war', '?', 'is', 'ai', 'a', 'bad', 'thing', '?']\n"
     ]
    }
   ],
   "source": [
    "# to convert every word to lower case\n",
    "tokens = [word.lower() for word in tokens]\n",
    "print(tokens)"
   ]
  },
  {
   "cell_type": "code",
   "execution_count": 6,
   "metadata": {},
   "outputs": [
    {
     "name": "stdout",
     "output_type": "stream",
     "text": [
      "<Text: u.s.a first . time you see the second...>\n"
     ]
    }
   ],
   "source": [
    "t = Text(tokens)\n",
    "print(t)"
   ]
  },
  {
   "cell_type": "code",
   "execution_count": 7,
   "metadata": {},
   "outputs": [
    {
     "data": {
      "text/plain": [
       "5"
      ]
     },
     "execution_count": 7,
     "metadata": {},
     "output_type": "execute_result"
    }
   ],
   "source": [
    "t.count('the')"
   ]
  },
  {
   "cell_type": "code",
   "execution_count": 8,
   "metadata": {},
   "outputs": [
    {
     "data": {
      "text/plain": [
       "5"
      ]
     },
     "execution_count": 8,
     "metadata": {},
     "output_type": "execute_result"
    }
   ],
   "source": [
    "t.index('see')"
   ]
  },
  {
   "cell_type": "code",
   "execution_count": 9,
   "metadata": {},
   "outputs": [
    {
     "data": {
      "image/png": "[encoded data removed]",
      "text/plain": [
       "<Figure size 432x288 with 1 Axes>"
      ]
     },
     "metadata": {
      "needs_background": "light"
     },
     "output_type": "display_data"
    }
   ],
   "source": [
    "t.dispersion_plot(['the','see'])"
   ]
  },
  {
   "cell_type": "code",
   "execution_count": 10,
   "metadata": {},
   "outputs": [
    {
     "data": {
      "image/png": "[encoded data removed]",
      "text/plain": [
       "<Figure size 432x288 with 1 Axes>"
      ]
     },
     "metadata": {
      "needs_background": "light"
     },
     "output_type": "display_data"
    }
   ],
   "source": [
    "t.plot(50)"
   ]
  },
  {
   "cell_type": "code",
   "execution_count": 11,
   "metadata": {},
   "outputs": [
    {
     "data": {
      "text/plain": [
       "{'.',\n",
       " '2',\n",
       " '?',\n",
       " 'a',\n",
       " 'ai',\n",
       " 'and',\n",
       " 'are',\n",
       " 'at',\n",
       " 'bad',\n",
       " 'boring',\n",
       " 'change',\n",
       " 'definitely',\n",
       " 'first',\n",
       " 'human',\n",
       " 'is',\n",
       " 'it',\n",
       " 'least',\n",
       " 'look',\n",
       " 'matrix',\n",
       " 'may',\n",
       " 'of',\n",
       " 'ones',\n",
       " 'part',\n",
       " 'people',\n",
       " 'renaissance',\n",
       " 'second',\n",
       " 'see',\n",
       " 'started',\n",
       " 'the',\n",
       " 'thing',\n",
       " 'time',\n",
       " 'twice',\n",
       " 'u.s.a',\n",
       " 'view',\n",
       " 'war',\n",
       " 'watch',\n",
       " 'who',\n",
       " 'will',\n",
       " 'you',\n",
       " 'your'}"
      ]
     },
     "execution_count": 11,
     "metadata": {},
     "output_type": "execute_result"
    }
   ],
   "source": [
    "set(tokens) # gets all the words in form of sets"
   ]
  },
  {
   "cell_type": "code",
   "execution_count": 12,
   "metadata": {},
   "outputs": [
    {
     "data": {
      "text/plain": [
       "FreqDist({'the': 5, '.': 4, 'it': 3, 'look': 2, 'at': 2, '?': 2, 'u.s.a': 1, 'first': 1, 'time': 1, 'you': 1, ...})"
      ]
     },
     "execution_count": 12,
     "metadata": {},
     "output_type": "execute_result"
    }
   ],
   "source": [
    "# to get the number of frequency\n",
    "t.vocab()"
   ]
  },
  {
   "cell_type": "code",
   "execution_count": 13,
   "metadata": {},
   "outputs": [
    {
     "name": "stdout",
     "output_type": "stream",
     "text": [
      "['U.S.A', 'first.', 'time', 'you', 'see', 'The', 'Second', 'Renaissance', 'it', 'may', 'look', 'boring.', 'Look', 'at', 'it', 'at', 'least', 'twice', 'and', 'definitely', 'watch', 'part', '2.', 'It', 'will', 'change', 'your', 'view', 'of', 'the', 'matrix.', 'Are', 'the', 'human', 'people', 'the', 'ones', 'who', 'started', 'the', 'war', '?', 'Is', 'AI', 'a', 'bad', 'thing', '?']\n"
     ]
    }
   ],
   "source": [
    "print(text.split())"
   ]
  },
  {
   "cell_type": "code",
   "execution_count": 14,
   "metadata": {},
   "outputs": [
    {
     "name": "stdout",
     "output_type": "stream",
     "text": [
      "U.S.A FIRST. TIME YOU SEE THE SECOND RENAISSANCE IT MAY LOOK BORING. LOOK AT IT AT LEAST TWICE AND DEFINITELY WATCH PART 2. IT WILL CHANGE YOUR VIEW OF THE MATRIX. ARE THE HUMAN PEOPLE THE ONES WHO STARTED THE WAR ? IS AI A BAD THING ?\n"
     ]
    }
   ],
   "source": [
    "text = text.upper()\n",
    "print(text)"
   ]
  },
  {
   "cell_type": "code",
   "execution_count": 15,
   "metadata": {},
   "outputs": [
    {
     "name": "stdout",
     "output_type": "stream",
     "text": [
      "['i', 'me', 'my', 'myself', 'we', 'our', 'ours', 'ourselves', 'you', \"you're\", \"you've\", \"you'll\", \"you'd\", 'your', 'yours', 'yourself', 'yourselves', 'he', 'him', 'his', 'himself', 'she', \"she's\", 'her', 'hers', 'herself', 'it', \"it's\", 'its', 'itself', 'they', 'them', 'their', 'theirs', 'themselves', 'what', 'which', 'who', 'whom', 'this', 'that', \"that'll\", 'these', 'those', 'am', 'is', 'are', 'was', 'were', 'be', 'been', 'being', 'have', 'has', 'had', 'having', 'do', 'does', 'did', 'doing', 'a', 'an', 'the', 'and', 'but', 'if', 'or', 'because', 'as', 'until', 'while', 'of', 'at', 'by', 'for', 'with', 'about', 'against', 'between', 'into', 'through', 'during', 'before', 'after', 'above', 'below', 'to', 'from', 'up', 'down', 'in', 'out', 'on', 'off', 'over', 'under', 'again', 'further', 'then', 'once', 'here', 'there', 'when', 'where', 'why', 'how', 'all', 'any', 'both', 'each', 'few', 'more', 'most', 'other', 'some', 'such', 'no', 'nor', 'not', 'only', 'own', 'same', 'so', 'than', 'too', 'very', 's', 't', 'can', 'will', 'just', 'don', \"don't\", 'should', \"should've\", 'now', 'd', 'll', 'm', 'o', 're', 've', 'y', 'ain', 'aren', \"aren't\", 'couldn', \"couldn't\", 'didn', \"didn't\", 'doesn', \"doesn't\", 'hadn', \"hadn't\", 'hasn', \"hasn't\", 'haven', \"haven't\", 'isn', \"isn't\", 'ma', 'mightn', \"mightn't\", 'mustn', \"mustn't\", 'needn', \"needn't\", 'shan', \"shan't\", 'shouldn', \"shouldn't\", 'wasn', \"wasn't\", 'weren', \"weren't\", 'won', \"won't\", 'wouldn', \"wouldn't\"]\n"
     ]
    }
   ],
   "source": [
    "print(stopwords.words('english')) # all the stop words in english language"
   ]
  },
  {
   "cell_type": "code",
   "execution_count": 35,
   "metadata": {},
   "outputs": [
    {
     "name": "stdout",
     "output_type": "stream",
     "text": [
      "u s a first  time you see the second renaissance it may look boring  look at it at least twice and definitely watch part 2  it will change your view of the matrix  are the human people the ones who started the war   is ai a bad thing  \n"
     ]
    }
   ],
   "source": [
    "# for removing the punctuation\n",
    "text = re.sub(r'[^a-zA-Z0-9]',' ',text)\n",
    "print(text)"
   ]
  },
  {
   "cell_type": "code",
   "execution_count": 17,
   "metadata": {},
   "outputs": [
    {
     "name": "stdout",
     "output_type": "stream",
     "text": [
      "u s a first  time you see the second renaissance it may look boring  look at it at least twice and definitely watch part 2  it will change your view of the matrix  are the human people the ones who started the war   is ai a bad thing  \n"
     ]
    }
   ],
   "source": [
    "text = text.lower()\n",
    "print(text)"
   ]
  },
  {
   "cell_type": "code",
   "execution_count": 18,
   "metadata": {},
   "outputs": [
    {
     "name": "stdout",
     "output_type": "stream",
     "text": [
      "['u', 's', 'a', 'first', 'time', 'you', 'see', 'the', 'second', 'renaissance', 'it', 'may', 'look', 'boring', 'look', 'at', 'it', 'at', 'least', 'twice', 'and', 'definitely', 'watch', 'part', '2', 'it', 'will', 'change', 'your', 'view', 'of', 'the', 'matrix', 'are', 'the', 'human', 'people', 'the', 'ones', 'who', 'started', 'the', 'war', 'is', 'ai', 'a', 'bad', 'thing']\n",
      "48\n"
     ]
    }
   ],
   "source": [
    "# to split the words\n",
    "words = text.split()\n",
    "print(words)\n",
    "print(len(words))"
   ]
  },
  {
   "cell_type": "code",
   "execution_count": 19,
   "metadata": {},
   "outputs": [
    {
     "name": "stdout",
     "output_type": "stream",
     "text": [
      "u\n",
      "first\n",
      "time\n",
      "see\n",
      "second\n",
      "renaissance\n",
      "may\n",
      "look\n",
      "boring\n",
      "look\n",
      "least\n",
      "twice\n",
      "definitely\n",
      "watch\n",
      "part\n",
      "2\n",
      "change\n",
      "view\n",
      "matrix\n",
      "human\n",
      "people\n",
      "ones\n",
      "started\n",
      "war\n",
      "ai\n",
      "bad\n",
      "thing\n"
     ]
    }
   ],
   "source": [
    "# remove stop words\n",
    "for w in words:\n",
    "    if w not in stopwords.words(\"english\"):\n",
    "        print(w)"
   ]
  },
  {
   "cell_type": "code",
   "execution_count": 20,
   "metadata": {},
   "outputs": [
    {
     "name": "stdout",
     "output_type": "stream",
     "text": [
      "['u', 's', 'a', 'first', 'time', 'you', 'see', 'the', 'second', 'renaissance', 'it', 'may', 'look', 'boring', 'look', 'at', 'it', 'at', 'least', 'twice', 'and', 'definitely', 'watch', 'part', '2', 'it', 'will', 'change', 'your', 'view', 'of', 'the', 'matrix', 'are', 'the', 'human', 'people', 'the', 'ones', 'who', 'started', 'the', 'war', 'is', 'ai', 'a', 'bad', 'thing']\n",
      "48\n"
     ]
    }
   ],
   "source": [
    "words = word_tokenize(text)\n",
    "print(words)\n",
    "print(len(words))"
   ]
  },
  {
   "cell_type": "code",
   "execution_count": 21,
   "metadata": {},
   "outputs": [
    {
     "name": "stdout",
     "output_type": "stream",
     "text": [
      "second\n",
      "renaissance\n",
      "boring\n",
      "definitely\n",
      "change\n",
      "matrix\n",
      "people\n",
      "started\n"
     ]
    }
   ],
   "source": [
    "for w in words:\n",
    "    if(len(w)>5):\n",
    "        print(w)"
   ]
  },
  {
   "cell_type": "code",
   "execution_count": 22,
   "metadata": {},
   "outputs": [
    {
     "name": "stdout",
     "output_type": "stream",
     "text": [
      "u s a first  time you see the second renaissance it may look boring  look at it at least twice and definitely watch part 2  it will change your view of the matrix  are the human people the ones who started the war   is ai a bad thing  \n"
     ]
    }
   ],
   "source": [
    "sent = sent_tokenize(text)\n",
    "print(text)"
   ]
  },
  {
   "cell_type": "code",
   "execution_count": 25,
   "metadata": {},
   "outputs": [
    {
     "name": "stdout",
     "output_type": "stream",
     "text": [
      "['u', 's', 'a', 'first', 'time', 'you', 'see', 'the', 'second', 'renaiss', 'it', 'may', 'look', 'bore', 'look', 'at', 'it', 'at', 'least', 'twice', 'and', 'definit', 'watch', 'part', '2', 'it', 'will', 'chang', 'your', 'view', 'of', 'the', 'matrix', 'are', 'the', 'human', 'peopl', 'the', 'one', 'who', 'start', 'the', 'war', 'is', 'ai', 'a', 'bad', 'thing']\n"
     ]
    }
   ],
   "source": [
    "#Stemming (reducing a word to word stem)\n",
    "stem = [PorterStemmer().stem(w) for w in words]\n",
    "print(stem)"
   ]
  },
  {
   "cell_type": "code",
   "execution_count": 26,
   "metadata": {},
   "outputs": [
    {
     "name": "stdout",
     "output_type": "stream",
     "text": [
      "['u', 's', 'a', 'first', 'time', 'you', 'see', 'the', 'second', 'renaissance', 'it', 'may', 'look', 'boring', 'look', 'at', 'it', 'at', 'least', 'twice', 'and', 'definitely', 'watch', 'part', '2', 'it', 'will', 'change', 'your', 'view', 'of', 'the', 'matrix', 'are', 'the', 'human', 'people', 'the', 'one', 'who', 'started', 'the', 'war', 'is', 'ai', 'a', 'bad', 'thing']\n"
     ]
    }
   ],
   "source": [
    "lemma = [WordNetLemmatizer().lemmatize(w) for w in words]\n",
    "print(lemma)"
   ]
  },
  {
   "cell_type": "markdown",
   "metadata": {},
   "source": [
    "- Stemming and Lemmatization both generate the root form of the inflected words. The difference is that stem might not be an actual word whereas, lemma is an actual language word"
   ]
  },
  {
   "cell_type": "code",
   "execution_count": 37,
   "metadata": {},
   "outputs": [
    {
     "data": {
      "text/plain": [
       "48"
      ]
     },
     "execution_count": 37,
     "metadata": {},
     "output_type": "execute_result"
    }
   ],
   "source": [
    "len(words)\n",
    "#len(set(new_words))\n",
    "#sorted(set(new_words))"
   ]
  },
  {
   "cell_type": "code",
   "execution_count": 38,
   "metadata": {},
   "outputs": [
    {
     "name": "stdout",
     "output_type": "stream",
     "text": [
      "[(' ', 55), ('e', 22), ('t', 21), ('a', 19), ('i', 16), ('o', 12), ('s', 10), ('h', 10), ('n', 10), ('r', 9), ('l', 7), ('w', 6), ('c', 5), ('d', 5), ('u', 4), ('m', 4), ('y', 4), ('f', 3), ('g', 3), ('p', 3), ('k', 2), ('b', 2), ('2', 1), ('v', 1), ('x', 1)]\n"
     ]
    }
   ],
   "source": [
    "fd = nltk.FreqDist(text)\n",
    "print(fd.most_common())"
   ]
  },
  {
   "cell_type": "code",
   "execution_count": 40,
   "metadata": {},
   "outputs": [
    {
     "data": {
      "text/plain": [
       "[('u', 'JJ'),\n",
       " ('s', 'VBD'),\n",
       " ('a', 'DT'),\n",
       " ('first', 'JJ'),\n",
       " ('time', 'NN'),\n",
       " ('you', 'PRP'),\n",
       " ('see', 'VBP'),\n",
       " ('the', 'DT'),\n",
       " ('second', 'JJ'),\n",
       " ('renaissance', 'NN'),\n",
       " ('it', 'PRP'),\n",
       " ('may', 'MD'),\n",
       " ('look', 'VB'),\n",
       " ('boring', 'JJ'),\n",
       " ('look', 'NN'),\n",
       " ('at', 'IN'),\n",
       " ('it', 'PRP'),\n",
       " ('at', 'IN'),\n",
       " ('least', 'JJS'),\n",
       " ('twice', 'RB'),\n",
       " ('and', 'CC'),\n",
       " ('definitely', 'RB'),\n",
       " ('watch', 'VB'),\n",
       " ('part', 'NN'),\n",
       " ('2', 'CD'),\n",
       " ('it', 'PRP'),\n",
       " ('will', 'MD'),\n",
       " ('change', 'VB'),\n",
       " ('your', 'PRP$'),\n",
       " ('view', 'NN'),\n",
       " ('of', 'IN'),\n",
       " ('the', 'DT'),\n",
       " ('matrix', 'NN'),\n",
       " ('are', 'VBP'),\n",
       " ('the', 'DT'),\n",
       " ('human', 'JJ'),\n",
       " ('people', 'NNS'),\n",
       " ('the', 'DT'),\n",
       " ('ones', 'NNS'),\n",
       " ('who', 'WP'),\n",
       " ('started', 'VBD'),\n",
       " ('the', 'DT'),\n",
       " ('war', 'NN'),\n",
       " ('is', 'VBZ'),\n",
       " ('ai', 'RP'),\n",
       " ('a', 'DT'),\n",
       " ('bad', 'JJ'),\n",
       " ('thing', 'NN')]"
      ]
     },
     "execution_count": 40,
     "metadata": {},
     "output_type": "execute_result"
    }
   ],
   "source": [
    "pos_tags = nltk.pos_tag(words)\n",
    "pos_tags"
   ]
  },
  {
   "cell_type": "code",
   "execution_count": 43,
   "metadata": {},
   "outputs": [
    {
     "name": "stdout",
     "output_type": "stream",
     "text": [
      "math\n",
      "mathmatics\n",
      "mathem\n"
     ]
    }
   ],
   "source": [
    "print(PorterStemmer().stem('maths'))\n",
    "print(WordNetLemmatizer().lemmatize('mathmatics'))\n",
    "print(LancasterStemmer().stem('mathematics'))\n",
    "      "
   ]
  },
  {
   "cell_type": "code",
   "execution_count": 44,
   "metadata": {},
   "outputs": [
    {
     "name": "stdout",
     "output_type": "stream",
     "text": [
      "be\n",
      "be\n",
      "be\n"
     ]
    }
   ],
   "source": [
    "s = WordNetLemmatizer()\n",
    "print(s.lemmatize('am', pos='v'))\n",
    "print(s.lemmatize('is', pos='v'))\n",
    "print(s.lemmatize('was', pos='v'))"
   ]
  },
  {
   "cell_type": "code",
   "execution_count": null,
   "metadata": {},
   "outputs": [],
   "source": []
  }
 ],
 "metadata": {
  "kernelspec": {
   "display_name": "Python 3",
   "language": "python",
   "name": "python3"
  },
  "language_info": {
   "codemirror_mode": {
    "name": "ipython",
    "version": 3
   },
   "file_extension": ".py",
   "mimetype": "text/x-python",
   "name": "python",
   "nbconvert_exporter": "python",
   "pygments_lexer": "ipython3",
   "version": "3.7.3"
  }
 },
 "nbformat": 4,
 "nbformat_minor": 2
}
